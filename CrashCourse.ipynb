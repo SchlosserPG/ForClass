{
 "cells": [
  {
   "cell_type": "code",
   "execution_count": 31,
   "id": "65c9a458",
   "metadata": {},
   "outputs": [
    {
     "name": "stdout",
     "output_type": "stream",
     "text": [
      "7\n",
      "data\n",
      "10\n",
      "15\n"
     ]
    }
   ],
   "source": [
    "x = 7\n",
    "y = \"data\"\n",
    "\n",
    "print(x)\n",
    "print(y)\n",
    "\n",
    "my_variable = 10\n",
    "print(my_variable)\n",
    "\n",
    "my_variable += 5\n",
    "print(my_variable)\n"
   ]
  },
  {
   "cell_type": "markdown",
   "id": "cfd265ea",
   "metadata": {},
   "source": [
    "Working with Strings. "
   ]
  },
  {
   "cell_type": "code",
   "execution_count": 32,
   "id": "48bbf33f",
   "metadata": {},
   "outputs": [
    {
     "name": "stdout",
     "output_type": "stream",
     "text": [
      "What are you studying?\n",
      "Analytics\n",
      "What are you studying? Analytics\n",
      "What are you studying? Analytics\n"
     ]
    }
   ],
   "source": [
    "\"Im into Data Science\"\n",
    "\n",
    "question = \"What are you studying?\"\n",
    "answer = \"Analytics\"\n",
    "\n",
    "print(question)\n",
    "print(answer)\n",
    "\n",
    "print(question + \" \" + answer)\n",
    "##This is another way to print strings together\n",
    "print(f\"{question} {answer}\")"
   ]
  },
  {
   "cell_type": "code",
   "execution_count": 33,
   "id": "09dee08b",
   "metadata": {},
   "outputs": [
    {
     "name": "stdout",
     "output_type": "stream",
     "text": [
      "What are you studying?\n",
      "Analytics\n"
     ]
    },
    {
     "data": {
      "text/plain": [
       "str"
      ]
     },
     "execution_count": 33,
     "metadata": {},
     "output_type": "execute_result"
    }
   ],
   "source": [
    "##new line character within a string\n",
    "print(question + \"\\n\" + answer)\n",
    "\n",
    "type(answer) ##tells class"
   ]
  },
  {
   "cell_type": "code",
   "execution_count": 34,
   "id": "5d4bcb93",
   "metadata": {},
   "outputs": [
    {
     "data": {
      "text/plain": [
       "9"
      ]
     },
     "execution_count": 34,
     "metadata": {},
     "output_type": "execute_result"
    }
   ],
   "source": [
    "len(answer) ##tells length of string"
   ]
  },
  {
   "cell_type": "code",
   "execution_count": 35,
   "id": "35e5c157",
   "metadata": {},
   "outputs": [
    {
     "name": "stdout",
     "output_type": "stream",
     "text": [
      "Analytics\n"
     ]
    },
    {
     "data": {
      "text/plain": [
       "'s'"
      ]
     },
     "execution_count": 35,
     "metadata": {},
     "output_type": "execute_result"
    }
   ],
   "source": [
    "print(answer)\n",
    "answer[0] ##first character\n",
    "answer[2] ##third character\n",
    "##answer[9] ##tenth character ##there is no tenth character so it will give an error\n",
    "\n",
    "answer[-1] ##last character"
   ]
  },
  {
   "cell_type": "code",
   "execution_count": 36,
   "id": "1c658e0b",
   "metadata": {},
   "outputs": [
    {
     "name": "stdout",
     "output_type": "stream",
     "text": [
      "CT\n"
     ]
    }
   ],
   "source": [
    "course = \"CTBA\"\n",
    "\n",
    "len(course) ##length of string\n",
    "print(course[0:2])"
   ]
  },
  {
   "cell_type": "code",
   "execution_count": 37,
   "id": "24a487b8",
   "metadata": {},
   "outputs": [
    {
     "name": "stdout",
     "output_type": "stream",
     "text": [
      "ANALYTICS\n"
     ]
    }
   ],
   "source": [
    "##Using the upper method to make the string uppercase \n",
    "answer_cap = answer.upper()\n",
    "print(answer_cap)"
   ]
  },
  {
   "cell_type": "code",
   "execution_count": 38,
   "id": "7cce4c0d",
   "metadata": {},
   "outputs": [
    {
     "data": {
      "text/plain": [
       "'analytics'"
      ]
     },
     "execution_count": 38,
     "metadata": {},
     "output_type": "execute_result"
    }
   ],
   "source": [
    "answer.lower() ##makes string lowercase"
   ]
  },
  {
   "cell_type": "code",
   "execution_count": 39,
   "id": "5355fca1",
   "metadata": {},
   "outputs": [
    {
     "data": {
      "text/plain": [
       "5"
      ]
     },
     "execution_count": 39,
     "metadata": {},
     "output_type": "execute_result"
    }
   ],
   "source": [
    "answer.find(\"t\") ##finds the index of the first occurrence of the letter \"t\""
   ]
  },
  {
   "cell_type": "code",
   "execution_count": 40,
   "id": "a0c59bec",
   "metadata": {},
   "outputs": [
    {
     "name": "stdout",
     "output_type": "stream",
     "text": [
      "Hello, my name is Pamela Schlosser. Nice to meet you!\n",
      "Hello, my name is Pamela Schlosser. Nice to meet you!\n"
     ]
    }
   ],
   "source": [
    "name = \"Pamela Schlosser\"\n",
    "print(\"Hello, my name is \" + name + \". Nice to meet you!\")\n",
    "\n",
    "##rewrite this using f-strings\n",
    "print(f\"Hello, my name is {name}. Nice to meet you!\")"
   ]
  },
  {
   "cell_type": "code",
   "execution_count": 41,
   "id": "2613768a",
   "metadata": {},
   "outputs": [],
   "source": [
    "##Tuple example\n",
    "t1 = (1, 2, 3, 4, 5)\n",
    "\n",
    "#t[0] = 11 ##this will give an error because tuples are immutable"
   ]
  },
  {
   "cell_type": "code",
   "execution_count": null,
   "id": "3ece023a",
   "metadata": {},
   "outputs": [
    {
     "name": "stdout",
     "output_type": "stream",
     "text": [
      "Pamela Schlosser\n",
      "{'name': 'Pamela Schlosser', 'age': 24, 'city': 'Williamsburg', 'email': 'pgschlosser@wm.edu'}\n"
     ]
    }
   ],
   "source": [
    "##dictionary example\n",
    "d1 = {\"name\": \"Pamela Schlosser\", \"age\": 23, \"city\": \"Williamsburg\"}\n",
    "\n",
    "print(d1[\"name\"]) ##outputs \"Pamela Schlosser\"\n",
    "d1[\"age\"] = 24 ##updates age to 24\n",
    "\n",
    "d1[\"email\"] = \"pgschlosser@wm.edu\" ##adds new key-value pair to dictionary\n",
    "\n",
    "print(d1)"
   ]
  },
  {
   "cell_type": "code",
   "execution_count": null,
   "id": "a9593a67",
   "metadata": {},
   "outputs": [
    {
     "name": "stdout",
     "output_type": "stream",
     "text": [
      "name : Pamela Schlosser\n",
      "age : 24\n",
      "city : Williamsburg\n",
      "email : pgschlosser@wm.edu\n"
     ]
    }
   ],
   "source": [
    "##Print a better format using .items method\n",
    "for key, value in d1.items():\n",
    "    print(key, \":\" ,value)"
   ]
  },
  {
   "cell_type": "code",
   "execution_count": 49,
   "id": "5bc8404c",
   "metadata": {},
   "outputs": [
    {
     "name": "stdout",
     "output_type": "stream",
     "text": [
      "{'person1': {'name': 'Pamela Schlosser', 'age': 25, 'city': 'Williamsburg'}, 'person2': {'name': 'John Doe', 'age': 30, 'city': 'New Port News'}}\n"
     ]
    }
   ],
   "source": [
    "people = {\n",
    "    \"person1\": {\"name\": \"Pamela Schlosser\", \"age\": 25, \"city\": \"Williamsburg\"},\n",
    "    \"person2\": {\"name\": \"John Doe\", \"age\": 30, \"city\": \"New Port News\"}    \n",
    "}\n",
    "\n",
    "print(people)"
   ]
  },
  {
   "cell_type": "code",
   "execution_count": 52,
   "id": "351b725a",
   "metadata": {},
   "outputs": [
    {
     "name": "stdout",
     "output_type": "stream",
     "text": [
      "{'A': {'B': 10, 'C': 15}, 'B': {'A': 10, 'C': 20}, 'C': {'A': 15, 'B': 20}}\n"
     ]
    }
   ],
   "source": [
    "distances = {    \n",
    "    \"A\": {\"B\": 10, \"C\":15},\n",
    "    \"B\": {\"A\": 10, \"C\":20},\n",
    "    \"C\": {\"A\": 15, \"B\": 20}\n",
    "}\n",
    "print(distances)"
   ]
  },
  {
   "cell_type": "code",
   "execution_count": 54,
   "id": "735130be",
   "metadata": {},
   "outputs": [
    {
     "name": "stdout",
     "output_type": "stream",
     "text": [
      "x is greater than 5\n"
     ]
    }
   ],
   "source": [
    "##if statements in python\n",
    "\n",
    "x = 10\n",
    "if x > 5:\n",
    "    print(\"x is greater than 5\")\n"
   ]
  },
  {
   "cell_type": "code",
   "execution_count": null,
   "id": "4ea202f2",
   "metadata": {},
   "outputs": [
    {
     "name": "stdout",
     "output_type": "stream",
     "text": [
      "x is even\n"
     ]
    }
   ],
   "source": [
    "##if else statement \n",
    "x = 4\n",
    "if x % 2 == 0:\n",
    "    print(\"x is even\")\n",
    "else:\n",
    "    print(\"x is odd\")  \n"
   ]
  },
  {
   "cell_type": "code",
   "execution_count": 56,
   "id": "481e5704",
   "metadata": {},
   "outputs": [
    {
     "name": "stdout",
     "output_type": "stream",
     "text": [
      "Zero\n"
     ]
    }
   ],
   "source": [
    "##using elif\n",
    "\n",
    "x = 0\n",
    "if x > 0:\n",
    "    print(\"Positive\")\n",
    "elif x == 0:\n",
    "    print(\"Zero\")\n",
    "else:\n",
    "    print(\"Negative\")\n",
    "    "
   ]
  },
  {
   "cell_type": "code",
   "execution_count": 58,
   "id": "67a84f80",
   "metadata": {},
   "outputs": [
    {
     "name": "stdout",
     "output_type": "stream",
     "text": [
      "i is:  0\n",
      "i is:  1\n",
      "i is:  2\n",
      "i is:  3\n",
      "i is:  4\n"
     ]
    }
   ],
   "source": [
    "for i in range(5):\n",
    "    print(\"i is: \", i)"
   ]
  },
  {
   "cell_type": "code",
   "execution_count": 59,
   "id": "befb295e",
   "metadata": {},
   "outputs": [
    {
     "name": "stdout",
     "output_type": "stream",
     "text": [
      "0 is even\n",
      "1 is odd\n",
      "2 is even\n",
      "3 is odd\n",
      "4 is even\n"
     ]
    }
   ],
   "source": [
    "#While loops\n",
    "\n",
    "x = 0\n",
    "\n",
    "while x < 5:\n",
    "    if x%2 ==0:\n",
    "        print(x, \"is even\")\n",
    "    else: \n",
    "        print(x, \"is odd\")\n",
    "    x += 1\n",
    "              "
   ]
  },
  {
   "cell_type": "code",
   "execution_count": 60,
   "id": "33b92d0c",
   "metadata": {},
   "outputs": [],
   "source": [
    "import numpy as np"
   ]
  }
 ],
 "metadata": {
  "kernelspec": {
   "display_name": "CTBA",
   "language": "python",
   "name": "python3"
  },
  "language_info": {
   "codemirror_mode": {
    "name": "ipython",
    "version": 3
   },
   "file_extension": ".py",
   "mimetype": "text/x-python",
   "name": "python",
   "nbconvert_exporter": "python",
   "pygments_lexer": "ipython3",
   "version": "3.13.5"
  }
 },
 "nbformat": 4,
 "nbformat_minor": 5
}
