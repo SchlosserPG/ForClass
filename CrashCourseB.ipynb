{
 "cells": [
  {
   "cell_type": "code",
   "execution_count": 32,
   "id": "c776705a",
   "metadata": {},
   "outputs": [
    {
     "name": "stdout",
     "output_type": "stream",
     "text": [
      "7\n",
      "data\n",
      "10\n",
      "15\n"
     ]
    }
   ],
   "source": [
    "x = 7\n",
    "y = \"data\"\n",
    "\n",
    "print(x)\n",
    "print(y)\n",
    "\n",
    "my_variable = 10\n",
    "print(my_variable)\n",
    "\n",
    "my_variable += 5\n",
    "print(my_variable)"
   ]
  },
  {
   "cell_type": "markdown",
   "id": "266ecb81",
   "metadata": {},
   "source": [
    "Working with Strings"
   ]
  },
  {
   "cell_type": "code",
   "execution_count": 33,
   "id": "14e13df0",
   "metadata": {},
   "outputs": [
    {
     "name": "stdout",
     "output_type": "stream",
     "text": [
      "What are you studying?\n",
      "Analytics!\n",
      "What are you studying? Analytics!\n",
      "What are you studying? Analytics!\n",
      "What are you studying?\n",
      "Analytics!\n"
     ]
    },
    {
     "data": {
      "text/plain": [
       "str"
      ]
     },
     "execution_count": 33,
     "metadata": {},
     "output_type": "execute_result"
    }
   ],
   "source": [
    "\"I am a MSBA student\"\n",
    "\n",
    "question = \"What are you studying?\"\n",
    "answer = \"Analytics!\"\n",
    "\n",
    "print(question)\n",
    "print(answer)\n",
    "\n",
    "print(question + \" \" + answer) # Concatenation using standard format\n",
    "print(f\"{question} {answer}\") # Concatenation using f-string format\n",
    "\n",
    "### adding a line break\n",
    "print(question + \"\\n\" + answer)\n",
    "\n",
    "type(answer)"
   ]
  },
  {
   "cell_type": "code",
   "execution_count": 34,
   "id": "e6c27543",
   "metadata": {},
   "outputs": [
    {
     "data": {
      "text/plain": [
       "10"
      ]
     },
     "execution_count": 34,
     "metadata": {},
     "output_type": "execute_result"
    }
   ],
   "source": [
    "len(answer)"
   ]
  },
  {
   "cell_type": "code",
   "execution_count": 35,
   "id": "a63b8677",
   "metadata": {},
   "outputs": [
    {
     "data": {
      "text/plain": [
       "'!'"
      ]
     },
     "execution_count": 35,
     "metadata": {},
     "output_type": "execute_result"
    }
   ],
   "source": [
    "### Indexing a string\n",
    "\n",
    "answer[0]  # First character\n",
    "answer[2]  # Third character\n",
    "answer[9]  # Tenth character\n",
    "\n",
    "answer[-1]  # Last character"
   ]
  },
  {
   "cell_type": "code",
   "execution_count": 36,
   "id": "802a6b1c",
   "metadata": {},
   "outputs": [
    {
     "name": "stdout",
     "output_type": "stream",
     "text": [
      "CT\n"
     ]
    }
   ],
   "source": [
    "course = \"CTBA\"\n",
    "\n",
    "len(course)\n",
    "\n",
    "print(course[0:2])  # First two characters"
   ]
  },
  {
   "cell_type": "code",
   "execution_count": 37,
   "id": "b89cdbbe",
   "metadata": {},
   "outputs": [
    {
     "name": "stdout",
     "output_type": "stream",
     "text": [
      "ANALYTICS!\n"
     ]
    },
    {
     "data": {
      "text/plain": [
       "5"
      ]
     },
     "execution_count": 37,
     "metadata": {},
     "output_type": "execute_result"
    }
   ],
   "source": [
    "#Functions and Methods\n",
    "\n",
    "answer_cap = answer.upper() # Convert to uppercase \n",
    "print(answer_cap)\n",
    "\n",
    "answer.lower() # Convert to lowercase\n",
    "\n",
    "answer.find(\"t\") # Find the index of the first occurrence of \"t\""
   ]
  },
  {
   "cell_type": "code",
   "execution_count": 38,
   "id": "e69b3793",
   "metadata": {},
   "outputs": [
    {
     "name": "stdout",
     "output_type": "stream",
     "text": [
      "Hello, my name is Pamela Schlosser. I am studying Business Analytics.\n",
      "Hello, my name is Pamela Schlosser. I am studying Business Analytics.\n"
     ]
    }
   ],
   "source": [
    "name = \"Pamela Schlosser\"\n",
    "\n",
    "print(\"Hello, my name is \" + name + \". I am studying Business Analytics.\")\n",
    "print(f\"Hello, my name is {name}. I am studying Business Analytics.\")"
   ]
  },
  {
   "cell_type": "code",
   "execution_count": 39,
   "id": "98e1a85c",
   "metadata": {},
   "outputs": [
    {
     "name": "stdout",
     "output_type": "stream",
     "text": [
      "(1, 2, 3, 4, 5)\n"
     ]
    }
   ],
   "source": [
    "##Tuples\n",
    "t1 = (1, 2, 3, 4, 5)\n",
    "print(t1)\n",
    "\n",
    "#t1[0] = 11 #Tuples are immutable, so this will give an error"
   ]
  },
  {
   "cell_type": "code",
   "execution_count": null,
   "id": "d918f274",
   "metadata": {},
   "outputs": [
    {
     "name": "stdout",
     "output_type": "stream",
     "text": [
      "{'name': 'Pamela Schlosser', 'age': 23, 'city': 'Williamsburg'}\n",
      "Pamela Schlosser\n",
      "{'name': 'Pamela Schlosser', 'age': 23, 'city': 'Williamsburg', 'email': 'pgschlosser@wm.edu'}\n"
     ]
    }
   ],
   "source": [
    "d1 = {\"name\": \"Pamela Schlosser\", \"age\": 23, \"city\": \"Williamsburg\"}\n",
    "\n",
    "print(d1)\n",
    "\n",
    "print(d1[\"name\"])\n",
    "\n",
    "d1[\"email\"] = \"pgschlosser@wm.edu\"\n",
    "\n",
    "print(d1)"
   ]
  },
  {
   "cell_type": "code",
   "execution_count": 46,
   "id": "7f3fb26b",
   "metadata": {},
   "outputs": [
    {
     "name": "stdout",
     "output_type": "stream",
     "text": [
      "name : Pamela Schlosser\n",
      "age : 23\n",
      "city : Williamsburg\n",
      "email : pgschlosser@wm.edu\n"
     ]
    }
   ],
   "source": [
    "##formatting the dictionary output with a for loop\n",
    "for key, value in d1.items():\n",
    "    print(key, \":\", value)\n",
    "    "
   ]
  },
  {
   "cell_type": "code",
   "execution_count": null,
   "id": "968d90b4",
   "metadata": {},
   "outputs": [],
   "source": [
    "##dictionary of dictionaries -- nested dictionaries\n",
    "\n",
    "people = {\n",
    "    \"person1\": {\"name\": \"Pamela Schlosser\", \"age\": 23, \"city\": \"Williamsburg\"},\n",
    "    \"person2\": {\"name\": \"John Doe\", \"age\": 30, \"city\": \"New Port News\"},\n",
    "}"
   ]
  },
  {
   "cell_type": "code",
   "execution_count": 48,
   "id": "6d111789",
   "metadata": {},
   "outputs": [
    {
     "name": "stdout",
     "output_type": "stream",
     "text": [
      "{'A': {'B': 10, 'C': 15}, 'B': {'A': 10, 'C': 20}, 'C': {'A': 15, 'B': 20}}\n"
     ]
    }
   ],
   "source": [
    "distances = {\n",
    "    \n",
    "    \"A\": {\"B\": 10, \"C\": 15},\n",
    "    \"B\": {\"A\": 10, \"C\": 20},\n",
    "    \"C\": {\"A\": 15, \"B\": 20},\n",
    "}\n",
    "\n",
    "print(distances)"
   ]
  },
  {
   "cell_type": "code",
   "execution_count": 50,
   "id": "151faae7",
   "metadata": {},
   "outputs": [
    {
     "name": "stdout",
     "output_type": "stream",
     "text": [
      "x is greater than 5\n",
      "x is even\n"
     ]
    }
   ],
   "source": [
    "##If Statements\n",
    "\n",
    "x = 10\n",
    "\n",
    "if x > 5:\n",
    "    print(\"x is greater than 5\")   \n",
    " \n",
    " \n",
    " ##if else\n",
    " \n",
    "x = 4\n",
    " \n",
    "if x %2 == 0:\n",
    "    print(\"x is even\")\n",
    "else:\n",
    "    print(\"x is odd\")\n",
    "       "
   ]
  },
  {
   "cell_type": "code",
   "execution_count": 51,
   "id": "81958b8c",
   "metadata": {},
   "outputs": [
    {
     "name": "stdout",
     "output_type": "stream",
     "text": [
      "x is zero\n"
     ]
    }
   ],
   "source": [
    "###working with elif\n",
    "\n",
    "x = 0\n",
    "if x > 0:\n",
    "    print(\"x is positive\")\n",
    "elif x ==0:\n",
    "    print(\"x is zero\")\n",
    "else:\n",
    "    print(\"x is negative\")\n",
    "    "
   ]
  },
  {
   "cell_type": "code",
   "execution_count": 52,
   "id": "0c50479e",
   "metadata": {},
   "outputs": [
    {
     "name": "stdout",
     "output_type": "stream",
     "text": [
      "i is  0\n",
      "i is  1\n",
      "i is  2\n",
      "i is  3\n",
      "i is  4\n"
     ]
    }
   ],
   "source": [
    "##for loop with an i and a range function\n",
    "for i in range(5):\n",
    "    print(\"i is \", i)"
   ]
  },
  {
   "cell_type": "code",
   "execution_count": 53,
   "id": "320b7c73",
   "metadata": {},
   "outputs": [
    {
     "name": "stdout",
     "output_type": "stream",
     "text": [
      "0 is even\n",
      "1 is odd\n",
      "2 is even\n",
      "3 is odd\n",
      "4 is even\n"
     ]
    }
   ],
   "source": [
    "x = 0\n",
    "\n",
    "while x < 5:\n",
    "    if x % 2 == 0:\n",
    "        print(x, \"is even\")\n",
    "    else:\n",
    "        print(x, \"is odd\")\n",
    "    x += 1        "
   ]
  },
  {
   "cell_type": "code",
   "execution_count": 54,
   "id": "7de137e1",
   "metadata": {},
   "outputs": [],
   "source": [
    "import numpy as np\n"
   ]
  }
 ],
 "metadata": {
  "kernelspec": {
   "display_name": "CTBA",
   "language": "python",
   "name": "python3"
  },
  "language_info": {
   "codemirror_mode": {
    "name": "ipython",
    "version": 3
   },
   "file_extension": ".py",
   "mimetype": "text/x-python",
   "name": "python",
   "nbconvert_exporter": "python",
   "pygments_lexer": "ipython3",
   "version": "3.13.5"
  }
 },
 "nbformat": 4,
 "nbformat_minor": 5
}
